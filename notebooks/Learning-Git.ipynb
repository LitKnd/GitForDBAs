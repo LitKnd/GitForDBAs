{
    "metadata": {
        "kernelspec": {
            "name": "powershell",
            "display_name": "PowerShell",
            "language": "powershell"
        },
        "language_info": {
            "name": "powershell",
            "codemirror_mode": "shell",
            "mimetype": "text/x-sh",
            "file_extension": ".ps1"
        }
    },
    "nbformat_minor": 2,
    "nbformat": 4,
    "cells": [
        {
            "cell_type": "markdown",
            "source": [
                "# To use this notebook\n",
                "\n",
                "-   Open in Azure Data Studio\n",
                "-   Ensure the Kernel is set to \"PowerShell\""
            ],
            "metadata": {
                "azdata_cell_guid": "6752f25f-aefe-4041-bdd8-b8f7d3eeb33b"
            }
        },
        {
            "cell_type": "markdown",
            "source": [
                "# Fork the GitForDBAs repo\n",
                "\n",
                "Sign up and/or sign into GitHub\n",
                "\n",
                "-   Go to [https://github.com/LitKnd/GitForDBAs](https://github.com/LitKnd/GitForDBAs)\n",
                "    \n",
                "-   In the top right, click \"Fork\"  -- this will create your own copy of the repo in your account\n",
                "    \n",
                "-   Making changes to your forked repo won't mess up the original\n",
                "    \n",
                "\n",
                "_Aside: it's also easy to create a new GitHub repo, but  it will be empty..._\n",
                "\n",
                "-   [https://github.com/new](https://github.com/new)\n",
                "    \n",
                "-   For a fresh repo it's easiest if you create at least one file in the repo\n",
                "    \n",
                "-   On the page to create a repo check off \"Add a README file\"\n",
                "    \n",
                "\n",
                "# Install Git locally\n",
                "\n",
                "\"Locally\" is on your workstation -- laptop, desktop, VM, wherever you will be working. \n",
                "\n",
                "It's convenient if you have a database instances for locally for testing, too.\n",
                "\n",
                "[https://git-scm.com/downloads](https://git-scm.com/downloads)\n",
                "\n",
                "If you are a [Chocolatey](https://chocolatey.org/) user, you can easily install Git from a terminal with elevated access:\n",
                "\n",
                "```\n",
                "choco install Git\n",
                "```\n",
                "\n",
                "Or upgrade with\n",
                "\n",
                "```\n",
                "choco upgrade Git\n",
                "```"
            ],
            "metadata": {
                "azdata_cell_guid": "27c10371-9ff6-47a4-9ac9-31da22881d54"
            }
        },
        {
            "cell_type": "markdown",
            "source": [
                "# Clone the repo\n",
                "\n",
                "There are several ways to pull your GitForDBAs repo down to your local workstation. \n",
                "\n",
                "Note that you can clone a repo to as many folders as you like (you just need one for this tutorial).\n",
                "\n",
                "I find the simplest way to clone is from the Git CLI:\n",
                "\n",
                "-   Change to the parent directory of where you'd like the repo to go\n",
                "-   Clone from the command line:\n",
                "\n",
                "```\n",
                "cd c:\\Git\\\n",
                "git clone https://github.com/URL-of-the-repo.git\n",
                "```"
            ],
            "metadata": {
                "azdata_cell_guid": "65287ba6-ddc5-4771-bc16-4f0812b956c8"
            }
        },
        {
            "cell_type": "code",
            "source": [
                "Set-Location c:\\Git\\\r\n",
                "git clone https://github.com/LitKnd/GitForDBAs.git"
            ],
            "metadata": {
                "azdata_cell_guid": "364ed091-a59a-4133-b4cf-0443d9553615",
                "tags": []
            },
            "outputs": [],
            "execution_count": null
        },
        {
            "cell_type": "markdown",
            "source": [
                "## In Azure Data Studio (or VS Code)\n",
                "\n",
                "The \"Source Control\" feature (ctrl + shift + g) has an option in the menu to clone.\n",
                "\n",
                "This will prompt you for where you want to put the folder.\n",
                "\n",
                "## However you clone the repo, \"Open\" it in Azure Data Studio\n",
                "\n",
                "-   This can be done in the graphic menus with: File -> Open Folder \n",
                "-   Or you can use the shortcut ctrl K + ctrl O\n",
                "-   Or you can use the Command Palette (ctrl + shift + P) and type \"Open folder\" \n",
                "-   Whichever way you use, select the folder of the repo in the Open Folder dialog\n",
                "\n",
                "# Checkout a branch to do some work\n",
                "\n",
                "It's good to get into the habit of working in a temporary or \"feature\" branch\n",
                "\n",
                "To create a new branch from the Git CLI, the syntax is:\n",
                "\n",
                "```\n",
                "git checkout -b branchname\n",
                "```\n",
                "\n",
                "_The -b flag is only needed when you are checking out / creating a NEW branch.  'Checkout' without -b will switch you to an existing branch._"
            ],
            "metadata": {
                "azdata_cell_guid": "e97c9afe-3354-4b55-ac23-806456c6e7c7"
            }
        },
        {
            "cell_type": "code",
            "source": [
                "Set-Location C:\\Git\\GitForDBAs\\\r\n",
                "\r\n",
                "git checkout -b letsmakesomechanges"
            ],
            "metadata": {
                "azdata_cell_guid": "485c6234-3372-4623-97ab-7177b28a00b4"
            },
            "outputs": [
                {
                    "name": "stdout",
                    "text": "Switched to a new branch 'letsmakesomechanges'\n",
                    "output_type": "stream"
                }
            ],
            "execution_count": 1
        },
        {
            "cell_type": "markdown",
            "source": [
                "## You can also change branches in Azure Data Studio / VSCode\n",
                "\n",
                "- The \"Source Control\" feature (ctrl + shift + g) has a command \"Checkout to\" in the menu\n",
                "- Or you can use the Command Palette (ctrl + shift + P) and type \"Git: Checkout to\"\n",
                "\n",
                "# Let's make some changes\n",
                "\n",
                "- Go to Explorer in ADS (ctrl + shift + E)\n",
                "- Expand the 'migrations' folder \n",
                "- Look at existing migrations ( V1\\_\\_Initial.sql, V2\\_\\_YOLO.sql )\n",
                "- Add a new file to the folder, name it something like V3\\_\\_YOURENOTMYREALMOM.sql  \\<-- note that there are TWO underscores together after the version indicator\n",
                "- Add a query to the file, like:\n",
                "\n",
                "```\n",
                "CREATE TABLE dbo.YoureNotMyRealMom(    \n",
                "     YoureNotMyRealMomId INT IDENTITY NOT NULL,    \n",
                "     Declaration nvarchar(1000) NULL,    \n",
                "     CONSTRAINT PK_YoureNotMyRealMom PRIMARY KEY CLUSTERED (YoureNotMyRealMom)\n",
                ");\n",
                "```\n",
                "\n",
                "- Save the file"
            ],
            "metadata": {
                "azdata_cell_guid": "7353715e-3dfa-41f1-aba9-8dff6560d41f"
            }
        },
        {
            "cell_type": "markdown",
            "source": [
                "# Stage, Commit, and Push\n",
                "\n",
                "To share our changes:\n",
                "\n",
                "1.  We stage the changes we want to share with \"git add\". This might only be some of our changes. To stage all, we can run: git add .\n",
                "2.  We commit our changes. To commit, we need to specify a message, so we run: git commit -m \"Your fancy commit message\"\n",
                "3.  We push our changes to the upstream repo.  We will need to specify a branch to push to if one is not already mapped. If this is the case, Git will tell us what is probably the best syntax if we simply run: git push\n",
                "\n",
                "Here is what that looks like in the CLI:"
            ],
            "metadata": {
                "azdata_cell_guid": "3191f4f9-befd-4f7c-b1b3-a2ffa128e845"
            }
        },
        {
            "cell_type": "code",
            "source": [
                "git add .\r\n",
                "git commit -m \"My Important Commit\"\r\n",
                "git push"
            ],
            "metadata": {
                "azdata_cell_guid": "3be46f7c-7c32-4693-ac82-d626d2724258"
            },
            "outputs": [],
            "execution_count": null
        },
        {
            "cell_type": "markdown",
            "source": [
                "You may\n",
                "\n",
                "-   The \"Source Control\" feature (ctrl + shift + g) lets you click a \"+\" button next to modified files to stage them (or unstage them with \"-\"), then type a message in the bar to commit\n",
                "-   Or you can use the Command Palette (ctrl + shift + P) and type \"Git: Stage All Changes\", then \"Git: Commit All\""
            ],
            "metadata": {
                "azdata_cell_guid": "e2948d45-d37c-4037-8169-bcdb23b2fe74"
            }
        },
        {
            "cell_type": "markdown",
            "source": [
                "# Create a Pull Request in the upstream repo\n",
                "\n",
                "Go to your upstream repo: https://github.com/  {your-username-used-to-fork-the-repo}  /GitForDBAs\n",
                "\n",
                "  \n",
                "\n",
                "If you've pushed your branch up, you should see a green button \"Compare & pull request\" \n",
                "\n",
                "-   Click it\n",
                "-   Add comments if desired\n",
                "-   Click 'Create Pull Request'\n",
                "-   Click 'Merge Pull Request' and 'Confirm merge'\n",
                "-   Click 'Delete Branch'\n",
                "\n",
                "You've just merged into main!"
            ],
            "metadata": {
                "azdata_cell_guid": "63e49804-dab9-44b1-a663-db9e46f1bdf2"
            }
        },
        {
            "cell_type": "markdown",
            "source": [
                "# Checkout main and pull\n",
                "\n",
                "Here's what happened so far:\n",
                "\n",
                "-   We changed to a temporary branch, made changes, staged, committed them, pushed them"
            ],
            "metadata": {
                "azdata_cell_guid": "9c80e39c-a5fd-46f2-94ca-5804c317b648"
            }
        },
        {
            "cell_type": "markdown",
            "source": [
                ""
            ],
            "metadata": {
                "azdata_cell_guid": "8a4bb2d9-b374-46d1-89b4-77de773ca519"
            }
        }
    ]
}