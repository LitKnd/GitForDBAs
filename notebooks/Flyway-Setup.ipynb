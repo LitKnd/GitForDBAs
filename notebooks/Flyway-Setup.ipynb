{
    "cells": [
        {
            "cell_type": "markdown",
            "metadata": {},
            "source": [
                "# To use this notebook\n",
                "\n",
                "-   Open in Azure Data Studio\n",
                "-   Ensure the Kernel is set to \"PowerShell\"\n",
                "\n",
                "# You can run Flyway in a variety of ways\n",
                "\n",
                "Community edition is free\n",
                "\n",
                "You may download and install locally - [https://flywaydb.org/download/](https://flywaydb.org/download/)\n",
                "\n",
                "You may use the flyway docker container - [https://github.com/flyway/flyway-docker](https://github.com/flyway/flyway-docker)"
            ]
        },
        {
            "cell_type": "markdown",
            "metadata": {
                "azdata_cell_guid": "cb72b6d5-254e-4291-9299-9b9f1eb34474"
            },
            "source": [
                "# Running the Flyway Docker container\n",
                "\n",
                "Install Docker and make sure it's running - [https://docs.docker.com/get-docker/](https://docs.docker.com/get-docker/)\n",
                "\n",
                "Instructions to run Flyway via Docker are here - [https://github.com/flyway/flyway-docker](https://github.com/flyway/flyway-docker)\n",
                "\n",
                "Some examples of this are below\n",
                "\n",
                "# Run Flyway and return info on available commands\n",
                "\n",
                "If the image isn't available for you locally yet (first run), this command should automatically pull it.\n",
                "\n",
                "The --rm causes Docker to automatically remove the container when it exits."
            ]
        },
        {
            "cell_type": "code",
            "execution_count": 12,
            "metadata": {},
            "outputs": [
                {
                    "name": "stdout",
                    "output_type": "stream",
                    "text": [
                        "hello world\n",
                        "hi\n"
                    ]
                }
            ],
            "source": [
                "print('hello world')\n",
                "print('hi')"
            ]
        },
        {
            "cell_type": "code",
            "execution_count": 1,
            "metadata": {
                "azdata_cell_guid": "64c065eb-6c3c-4587-929c-428af1d841fd",
                "tags": [
                    "hide_input"
                ]
            },
            "outputs": [
                {
                    "ename": "SyntaxError",
                    "evalue": "invalid syntax (480219389.py, line 2)",
                    "output_type": "error",
                    "traceback": [
                        "\u001b[0;36m  File \u001b[0;32m\"/var/folders/vz/vbg4gjqs53n1m4_vsfcvst9r0000gn/T/ipykernel_85530/480219389.py\"\u001b[0;36m, line \u001b[0;32m2\u001b[0m\n\u001b[0;31m    docker run --rm flyway/flyway\u001b[0m\n\u001b[0m           ^\u001b[0m\n\u001b[0;31mSyntaxError\u001b[0m\u001b[0;31m:\u001b[0m invalid syntax\n"
                    ]
                }
            ],
            "source": [
                "dir\n",
                "docker run --rm flyway/flyway"
            ]
        },
        {
            "cell_type": "markdown",
            "metadata": {
                "azdata_cell_guid": "36a52642-918e-45d7-964b-58bfcf6c3d52"
            },
            "source": [
                "# A simple test of Flyway's info command using the H2 in memory database"
            ]
        },
        {
            "cell_type": "code",
            "execution_count": 1,
            "metadata": {
                "azdata_cell_guid": "128b53d5-fe0d-47be-90dc-1b22342bcd9d"
            },
            "outputs": [
                {
                    "name": "stdout",
                    "output_type": "stream",
                    "text": [
                        "Flyway Teams Edition 8.3.0 by Redgate\n",
                        "Database: jdbc:h2:mem:test (H2 2.0)\n",
                        "----------------------------------------\n",
                        "Flyway Teams features are enabled by default for the next 27 days. Learn more at https://rd.gt/3A4IWym\n",
                        "----------------------------------------\n",
                        "Schema version: << Empty Schema >>\n",
                        "\n",
                        "+----------+---------+-------------+------+--------------+-------+----------+\n",
                        "| Category | Version | Description | Type | Installed On | State | Undoable |\n",
                        "+----------+---------+-------------+------+--------------+-------+----------+\n",
                        "| No migrations found                                                       |\n",
                        "+----------+---------+-------------+------+--------------+-------+----------+\n",
                        "\n"
                    ]
                }
            ],
            "source": [
                "\n",
                "!docker run --rm flyway/flyway -url=jdbc:h2:mem:test -user=sa info\n"
            ]
        },
        {
            "cell_type": "markdown",
            "metadata": {
                "azdata_cell_guid": "7c2ae31c-ef6d-4fea-ac23-6f6fbfd9b1ce"
            },
            "source": [
                "# Let's talk to a SQL Server\n",
                "\n",
                "I'm using a config file here, by passing in a volume with -v. We are naming the volume /flyway/conf.\n",
                "\n",
                "-   This needs to be an absolute path to the folder where you have flyway.conf\n",
                "-   You will need to edit the connection string, user, and password in flyway.conf\n",
                "-   You will need to create a database named GitForDBAs (or change the config file to reference a database of another name which already exists)\n",
                "\n",
                "I'm using a second volume mapping to a folder that holds my flyway migrations. We are naming the volume /flyway/sql.\n",
                "\n",
                "-   This needs to be an absolute path to the folder where you have migrations stored\n",
                "-   The filenames for the migrations matter -- Flyway uses the file names to understand what type of script it is and the order in which it should be run\n",
                "\n",
                "Note: I have spread this across multiple lines using the \\` character for readability purposes  \n",
                "\n",
                "# Call Flyway info to inspect"
            ]
        },
        {
            "cell_type": "code",
            "execution_count": 2,
            "metadata": {
                "azdata_cell_guid": "bdbc60ea-81d6-4108-8008-a348975f113e"
            },
            "outputs": [
                {
                    "name": "stdout",
                    "output_type": "stream",
                    "text": [
                        "Flyway Teams Edition 8.3.0 by Redgate\n",
                        "Database: jdbc:snowflake://py97658.us-east-2.aws.snowflakecomputing.com:443/ (Snowflake 5.45)\n",
                        "QUOTED_IDENTIFIERS_IGNORE_CASE option is false\n",
                        "SLF4J: Failed to load class \"org.slf4j.impl.StaticLoggerBinder\".\n",
                        "SLF4J: Defaulting to no-operation (NOP) logger implementation\n",
                        "SLF4J: See http://www.slf4j.org/codes.html#StaticLoggerBinder for further details.\n",
                        "----------------------------------------\n",
                        "Flyway Teams features are enabled by default for the next 27 days. Learn more at https://rd.gt/3A4IWym\n",
                        "----------------------------------------\n",
                        "Schema version: << Empty Schema >>\n",
                        "\n",
                        "+-----------+---------+-----------------------+------+--------------+---------+----------+\n",
                        "| Category  | Version | Description           | Type | Installed On | State   | Undoable |\n",
                        "+-----------+---------+-----------------------+------+--------------+---------+----------+\n",
                        "| Versioned | 1       | Initial               | SQL  |              | Pending | No       |\n",
                        "| Versioned | 2       | YOLO                  | SQL  |              | Pending | No       |\n",
                        "| Versioned | 2.1     | ILikeDags             | SQL  |              | Pending | No       |\n",
                        "| Versioned | 2.2     | InsertRowsInILikeDags | SQL  |              | Pending | No       |\n",
                        "| Versioned | 2.3     | livedemo              | SQL  |              | Pending | No       |\n",
                        "| Versioned | 2.5     | Again                 | SQL  |              | Pending | No       |\n",
                        "| Versioned | 3       | YOURENOTMYREALMOM     | SQL  |              | Pending | No       |\n",
                        "+-----------+---------+-----------------------+------+--------------+---------+----------+\n",
                        "\n"
                    ]
                }
            ],
            "source": [
                "!docker run --rm -v /Users/jomiller/git/GitForDBAs/flywayconf:/flyway/conf -v /Users/jomiller/git/GitForDBAs/migrations:/flyway/sql flyway/flyway info\n",
                "\n",
                "\n",
                "# docker run --rm `\n",
                "#     -v C:\\Git\\GitForDBAs\\flywayconf:/flyway/conf  `\n",
                "#     -v C:\\Git\\GitForDBAs\\migrations:/flyway/sql  `\n",
                "#     flyway/flyway info"
            ]
        },
        {
            "cell_type": "markdown",
            "metadata": {
                "azdata_cell_guid": "3a547590-2187-4544-a121-1de4ba2e465f"
            },
            "source": [
                "#  Call Flyway migrate to execute"
            ]
        },
        {
            "cell_type": "code",
            "execution_count": 5,
            "metadata": {
                "azdata_cell_guid": "4c8dd9da-d4f8-4507-9534-abdf4bc14ef0"
            },
            "outputs": [
                {
                    "name": "stdout",
                    "output_type": "stream",
                    "text": [
                        "Flyway Community Edition 7.0.3 by Redgate\n",
                        "Database: jdbc:jtds:sqlserver://host.docker.internal:1433/GitForDBAs (Microsoft SQL Server 14.0)\n",
                        "Successfully validated 5 migrations (execution time 00:00.035s)\n",
                        "Creating Schema History table [GitForDBAs].[dbo].[flyway_schema_history] ...\n",
                        "Current version of schema [dbo]: << Empty Schema >>\n",
                        "Migrating schema [dbo] to version \"1 - Initial\"\n",
                        "Migrating schema [dbo] to version \"2 - YOLO\"\n",
                        "Migrating schema [dbo] to version \"2.1 - ILikeDags\"\n",
                        "Migrating schema [dbo] to version \"2.2 - InsertRowsInILikeDags\"\n",
                        "Migrating schema [dbo] to version \"2.3 - livedemo\"\n",
                        "Successfully applied 5 migrations to schema [dbo] (execution time 00:00.235s)\n"
                    ]
                }
            ],
            "source": [
                "\n",
                "!docker run --rm -v /Users/jomiller/git/GitForDBAs/flywayconf:/flyway/conf -v /Users/jomiller/git/GitForDBAs/migrations:/flyway/sql flyway/flyway migrate\n",
                "\n",
                "\n",
                "# docker run --rm `\n",
                "#     -v C:\\Git\\GitForDBAs\\flywayconf:/flyway/conf  `\n",
                "#     -v C:\\Git\\GitForDBAs\\migrations:/flyway/sql  `\n",
                "#     flyway/flyway migrate"
            ]
        },
        {
            "cell_type": "markdown",
            "metadata": {
                "azdata_cell_guid": "2001f5ec-2b5a-4874-9800-fb17c635f227"
            },
            "source": [
                "# Examine the table - open a new query\n",
                "\n",
                "USE GitForDBAs;\n",
                "\n",
                "GO\n",
                "\n",
                "  \n",
                "\n",
                "EXEC sp\\_help 'dbo.HelloWorld';\n",
                "\n",
                "GO\n",
                "\n",
                "  \n",
                "\n",
                "SELECT \\*  FROM dbo.HelloWorld;\n",
                "\n",
                "GO"
            ]
        },
        {
            "cell_type": "markdown",
            "metadata": {
                "azdata_cell_guid": "9a2e8358-8c3b-4a66-a870-19067dfae5a6"
            },
            "source": [
                "# Call Flyway clean to drop everything 🔥🔥🔥"
            ]
        },
        {
            "cell_type": "code",
            "execution_count": 3,
            "metadata": {
                "azdata_cell_guid": "51772993-1171-4c26-9e95-eb7b44217dec",
                "tags": []
            },
            "outputs": [
                {
                    "name": "stdout",
                    "output_type": "stream",
                    "text": [
                        "Flyway Community Edition 7.0.3 by Redgate\n",
                        "Database: jdbc:jtds:sqlserver://host.docker.internal:1433/GitForDBAs (Microsoft SQL Server 14.0)\n",
                        "Successfully dropped pre-schema database level objects (execution time 00:00.002s)\n",
                        "Successfully cleaned schema [dbo] (execution time 00:00.177s)\n",
                        "Successfully dropped post-schema database level objects (execution time 00:00.007s)\n"
                    ]
                }
            ],
            "source": [
                "docker run --rm `\r\n",
                "    -v C:\\Git\\GitForDBAs\\flywayconf:/flyway/conf  `\r\n",
                "    -v C:\\Git\\GitForDBAs\\migrations:/flyway/sql  `\r\n",
                "    flyway/flyway clean"
            ]
        }
    ],
    "metadata": {
        "interpreter": {
            "hash": "ac2eaa0ea0ebeafcc7822e65e46aa9d4f966f30b695406963e145ea4a91cd4fc"
        },
        "kernelspec": {
            "display_name": "Python 3.9.7 64-bit",
            "name": "python3"
        },
        "language_info": {
            "codemirror_mode": {
                "name": "ipython",
                "version": 3
            },
            "file_extension": ".py",
            "mimetype": "text/x-python",
            "name": "python",
            "nbconvert_exporter": "python",
            "pygments_lexer": "ipython3",
            "version": "3.9.7"
        }
    },
    "nbformat": 4,
    "nbformat_minor": 2
}