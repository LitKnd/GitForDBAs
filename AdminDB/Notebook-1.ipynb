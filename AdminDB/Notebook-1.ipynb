{
    "metadata": {
        "kernelspec": {
            "name": "powershell",
            "display_name": "PowerShell",
            "language": "powershell"
        },
        "language_info": {
            "name": "powershell",
            "codemirror_mode": "shell",
            "mimetype": "text/x-sh",
            "file_extension": ".ps1"
        }
    },
    "nbformat_minor": 2,
    "nbformat": 4,
    "cells": [
        {
            "cell_type": "code",
            "source": [
                "flyway -user=sa -password=Password23 -url=\"jdbc:sqlserver://localhost:1435;databaseName=AdminDBTarget;encrypt=true;trustServerCertificate=true\" info"
            ],
            "metadata": {
                "azdata_cell_guid": "cbdefcd9-f2ee-49db-a3d0-f2e0a0f78548",
                "language": "powershell"
            },
            "outputs": [],
            "execution_count": null
        }
    ]
}